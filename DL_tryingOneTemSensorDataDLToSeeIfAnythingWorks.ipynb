{
 "cells": [
  {
   "cell_type": "code",
   "execution_count": 1,
   "metadata": {},
   "outputs": [
    {
     "name": "stderr",
     "output_type": "stream",
     "text": [
      "Using TensorFlow backend.\n"
     ]
    }
   ],
   "source": [
    "import time\n",
    "#import board\n",
    "#import busio\n",
    "import pandas as pd\n",
    "from pandas import DataFrame\n",
    "from matplotlib import pylab\n",
    "import matplotlib.pyplot as plt\n",
    "import numpy as np\n",
    "import matplotlib.colors as clrs\n",
    "import matplotlib.cm as cm\n",
    "import matplotlib.dates as mdates\n",
    "import matplotlib\n",
    "import seaborn as sns\n",
    "import datetime\n",
    "import os\n",
    "from pandas import concat\n",
    "from sklearn.model_selection import train_test_split\n",
    "from sklearn.preprocessing import MinMaxScaler\n",
    "from datetime import datetime, timedelta\n",
    "\n",
    "from keras.models import Sequential\n",
    "from keras.layers import Dense, LSTM, Dropout\n",
    "from keras.regularizers import l2\n",
    "from numpy import loadtxt\n",
    "from keras.models import load_model\n",
    "from keras.callbacks import ModelCheckpoint"
   ]
  },
  {
   "cell_type": "code",
   "execution_count": 2,
   "metadata": {},
   "outputs": [],
   "source": [
    "def fileNameForDLFigures(midfix = None):\n",
    "    \n",
    "    \n",
    "    from datetime import date\n",
    "    today = date.today()\n",
    "    # dd/mm/YY\n",
    "    d1 = today.strftime(\"%d_%m_%Y\")\n",
    "    #print(\"d1 =\", d1)\n",
    "    cwdir = os.getcwd()\n",
    "    mkSubDir =  os.path.join(cwdir, d1)\n",
    "    mkSubDir\n",
    "    if not os.path.exists(mkSubDir):\n",
    "        #os.makedirs('my_folder')\n",
    "        os.mkdir(mkSubDir)\n",
    "    #path = '/home/yogender/Desktop/KaggleHousePricePrediction/raspiData/Raspi2_second_currentLoop_RemoteMySql'\n",
    "    #file_name = 'csvFile_2021_04_20'\n",
    "    head, tail = os.path.split(file())\n",
    "    name =tail.split('_')[1:]\n",
    "    file_name = \"_\".join(name)\n",
    "    file_name=file_name.split('.')[0]\n",
    "    #join\n",
    "\n",
    "    #file_name = 'DL_2021_04_28'\n",
    "    #file_name = 'csvFile_2021_04_19'\n",
    "    #file_name ='csvFile_2021_03_30'\n",
    "    \n",
    "    #cwdir = os.getcwd()\n",
    "    #mkSubDir =  os.path.join(cwdir, 'DL_sub')\n",
    "    suffix = '.svg'\n",
    "    filePath = os.path.join(mkSubDir, midfix + file_name +suffix)\n",
    "    return  filePath"
   ]
  },
  {
   "cell_type": "code",
   "execution_count": 3,
   "metadata": {},
   "outputs": [],
   "source": [
    "def file():\n",
    "    \n",
    "    #path = '/home/yogender/Desktop/KaggleHousePricePrediction/raspiData/Raspi2_second_currentLoop_RemoteMySql'\n",
    "    #file_name = 'csvFile_2021_04_20'\n",
    "    #file_name = 'csvFile_2021_04_28'\n",
    "    #file_name = 'csvFile_2021_04_28'\n",
    "    file_name = 'csvFile_2021_05_24'\n",
    "    #file_name = 'DLTemLongerDatasetDischargecsvFile_2021_05_20'\n",
    "    #file_name = 'csvFile_2021_04_19'\n",
    "    #file_name ='csvFile_2021_03_30'\n",
    "    suffix = '.csv'\n",
    "    filePath = os.path.join(os.getcwd(), file_name + suffix)\n",
    "    return  filePath\n"
   ]
  },
  {
   "cell_type": "code",
   "execution_count": 4,
   "metadata": {},
   "outputs": [],
   "source": [
    "def modelDir(ModelName=None):\n",
    "    model = fileNameForDLFigures(midfix = 'Tem').split('/')[:-1]\n",
    "    model_dir = \"/\".join(model)\n",
    "    #model_dir \n",
    "    modelPath = os.path.join(model_dir, ModelName)\n",
    "    return modelPath"
   ]
  },
  {
   "cell_type": "code",
   "execution_count": 5,
   "metadata": {},
   "outputs": [],
   "source": [
    "def filePath2Pandas(file_path):\n",
    "    drop_column = 'Unnamed: 0'\n",
    "    df = pd.read_csv(file_path, delimiter=',').drop(drop_column, axis = 'columns')\n",
    "\n",
    "    column_names =  ['id', 'dateTime', 'Tamb', 'TtopTestTankHPCir', 'TbottomTestTankHpCir',\n",
    "       'TtopSourceTank', 'TloadTankMix', 'TTopTestTankLoadCir', 'TloadMix',\n",
    "       'TbottomSourceTank', 'TbottomTestTankLoadCir', 'T4', 'T3', 'T2', 'T1',\n",
    "        'T0', 'T9', 'T8', 'T7', 'T6', 'T5', 'flowHP', 'flowLoad', 'Load_kW',\n",
    "       'Heat_Capacity_kW', 'electrcity_kW', 'COP', 'nDis', 'timeStamp_Temp',\n",
    "       'timeStamp_watt', 'entropy_kJ/K', 'entropy_kJ', 'nStratCharging',\n",
    "       'TotalTanksEnergyForAvailability_kJ', 'DisEntropy_kj/K',\n",
    "       'DisEntropy_kj', 'nStratDischarge',\n",
    "       'DisTotalTanksEnergyForAvailability_kJ']\n",
    "    df.columns =column_names\n",
    "    df = df[['id', 'dateTime', 'Tamb', 'TtopTestTankHPCir', 'TbottomTestTankHpCir',\n",
    "       'TtopSourceTank', 'TloadTankMix', 'TTopTestTankLoadCir', 'TloadMix',\n",
    "       'TbottomSourceTank', 'TbottomTestTankLoadCir', 'T0', 'T1', 'T2', 'T3',\n",
    "        'T4', 'T5', 'T6', 'T7', 'T8', 'T9', 'flowHP', 'flowLoad', 'Load_kW',\n",
    "       'Heat_Capacity_kW', 'electrcity_kW', 'COP', 'nDis', 'timeStamp_Temp',\n",
    "       'timeStamp_watt', 'entropy_kJ/K', 'entropy_kJ', 'nStratCharging',\n",
    "       'TotalTanksEnergyForAvailability_kJ', 'DisEntropy_kj/K',\n",
    "       'DisEntropy_kj', 'nStratDischarge',\n",
    "       'DisTotalTanksEnergyForAvailability_kJ']]\n",
    "    \n",
    "    #df.columns.values[[11,12,13,14,15,16,17,18,19,20]] = ['T0', 'T1', 'T2', 'T3','T4', 'T5', 'T6', 'T7', 'T8', 'T9']\n",
    "\n",
    "    return df\n",
    "df_gross=filePath2Pandas(file())  \n"
   ]
  },
  {
   "cell_type": "code",
   "execution_count": 6,
   "metadata": {},
   "outputs": [],
   "source": [
    "gross_tem = df_gross[['T0', 'T1', 'T2', 'T3','T4', 'T5', 'T6', 'T7', 'T8', 'T9']]"
   ]
  },
  {
   "cell_type": "code",
   "execution_count": 7,
   "metadata": {},
   "outputs": [],
   "source": [
    "gross_tem_oneValue = gross_tem[[ 'T6']]"
   ]
  },
  {
   "cell_type": "code",
   "execution_count": 8,
   "metadata": {},
   "outputs": [
    {
     "data": {
      "text/html": [
       "<div>\n",
       "<style scoped>\n",
       "    .dataframe tbody tr th:only-of-type {\n",
       "        vertical-align: middle;\n",
       "    }\n",
       "\n",
       "    .dataframe tbody tr th {\n",
       "        vertical-align: top;\n",
       "    }\n",
       "\n",
       "    .dataframe thead th {\n",
       "        text-align: right;\n",
       "    }\n",
       "</style>\n",
       "<table border=\"1\" class=\"dataframe\">\n",
       "  <thead>\n",
       "    <tr style=\"text-align: right;\">\n",
       "      <th></th>\n",
       "      <th>T6</th>\n",
       "    </tr>\n",
       "  </thead>\n",
       "  <tbody>\n",
       "    <tr>\n",
       "      <th>0</th>\n",
       "      <td>24.7534</td>\n",
       "    </tr>\n",
       "    <tr>\n",
       "      <th>1</th>\n",
       "      <td>24.7534</td>\n",
       "    </tr>\n",
       "    <tr>\n",
       "      <th>2</th>\n",
       "      <td>24.8548</td>\n",
       "    </tr>\n",
       "    <tr>\n",
       "      <th>3</th>\n",
       "      <td>24.8887</td>\n",
       "    </tr>\n",
       "    <tr>\n",
       "      <th>4</th>\n",
       "      <td>24.8887</td>\n",
       "    </tr>\n",
       "    <tr>\n",
       "      <th>...</th>\n",
       "      <td>...</td>\n",
       "    </tr>\n",
       "    <tr>\n",
       "      <th>1291</th>\n",
       "      <td>24.5166</td>\n",
       "    </tr>\n",
       "    <tr>\n",
       "      <th>1292</th>\n",
       "      <td>24.5504</td>\n",
       "    </tr>\n",
       "    <tr>\n",
       "      <th>1293</th>\n",
       "      <td>24.5843</td>\n",
       "    </tr>\n",
       "    <tr>\n",
       "      <th>1294</th>\n",
       "      <td>24.5504</td>\n",
       "    </tr>\n",
       "    <tr>\n",
       "      <th>1295</th>\n",
       "      <td>24.4490</td>\n",
       "    </tr>\n",
       "  </tbody>\n",
       "</table>\n",
       "<p>1296 rows × 1 columns</p>\n",
       "</div>"
      ],
      "text/plain": [
       "           T6\n",
       "0     24.7534\n",
       "1     24.7534\n",
       "2     24.8548\n",
       "3     24.8887\n",
       "4     24.8887\n",
       "...       ...\n",
       "1291  24.5166\n",
       "1292  24.5504\n",
       "1293  24.5843\n",
       "1294  24.5504\n",
       "1295  24.4490\n",
       "\n",
       "[1296 rows x 1 columns]"
      ]
     },
     "execution_count": 8,
     "metadata": {},
     "output_type": "execute_result"
    }
   ],
   "source": [
    "gross_tem_oneValue"
   ]
  },
  {
   "cell_type": "code",
   "execution_count": 9,
   "metadata": {},
   "outputs": [
    {
     "name": "stderr",
     "output_type": "stream",
     "text": [
      "/home/yogender/miniconda3/envs/kerasClone/lib/python3.7/site-packages/ipykernel_launcher.py:5: UserWarning: Matplotlib is currently using module://ipykernel.pylab.backend_inline, which is a non-GUI backend, so cannot show the figure.\n",
      "  \"\"\"\n"
     ]
    },
    {
     "data": {
      "text/plain": [
       "(<Figure size 432x288 with 1 Axes>,\n",
       " <matplotlib.axes._subplots.AxesSubplot at 0x7f2e81a02b90>)"
      ]
     },
     "execution_count": 9,
     "metadata": {},
     "output_type": "execute_result"
    },
    {
     "data": {
      "image/png": "[encoded data removed]",
      "text/plain": [
       "<Figure size 432x288 with 1 Axes>"
      ]
     },
     "metadata": {
      "needs_background": "light"
     },
     "output_type": "display_data"
    }
   ],
   "source": [
    "fig = plt.figure(1)\n",
    "ax = fig.add_subplot(121)\n",
    "\n",
    "#fig.canvas.draw()\n",
    "fig.show()\n",
    "#fig.canvas.draw()\n",
    "#plt.rcParams[\"figure.figsize\"]=5,5\n",
    "#fig_size = plt.rcParams[\"figure.figsize\"]\n",
    "#fig_size[0] = 8\n",
    "#fig_size[1] = 3\n",
    "\n",
    "def plotObject(df, ax, fig, alpha =0.7, scm=None):\n",
    "    #ax.clear()\n",
    "    #df= df.iloc[:, 1:]\n",
    "    #df = df.iloc[:, 3:]\n",
    "    for i in range (0, df.shape[1]):\n",
    "        #print ('last shape[1] is:', df.shape[1])\n",
    "        ax.plot(df.index, df.iloc[:, i],\\\n",
    "                label = 'Layer ' + str(i))\n",
    "        \n",
    "    #fig.canvas.draw()\n",
    "    #ax.legend()\n",
    "    #fig.show()\n",
    "    #print ('df is :', df)\n",
    "    #plt.legend(loc='upper left')\n",
    "    return fig, ax\n",
    "plotObject(gross_tem_oneValue, ax, fig, alpha =0.7, scm=None)"
   ]
  },
  {
   "cell_type": "code",
   "execution_count": 10,
   "metadata": {},
   "outputs": [
    {
     "data": {
      "text/html": [
       "<div>\n",
       "<style scoped>\n",
       "    .dataframe tbody tr th:only-of-type {\n",
       "        vertical-align: middle;\n",
       "    }\n",
       "\n",
       "    .dataframe tbody tr th {\n",
       "        vertical-align: top;\n",
       "    }\n",
       "\n",
       "    .dataframe thead th {\n",
       "        text-align: right;\n",
       "    }\n",
       "</style>\n",
       "<table border=\"1\" class=\"dataframe\">\n",
       "  <thead>\n",
       "    <tr style=\"text-align: right;\">\n",
       "      <th></th>\n",
       "      <th>T6</th>\n",
       "    </tr>\n",
       "  </thead>\n",
       "  <tbody>\n",
       "    <tr>\n",
       "      <th>0</th>\n",
       "      <td>0.045891</td>\n",
       "    </tr>\n",
       "    <tr>\n",
       "      <th>1</th>\n",
       "      <td>0.045891</td>\n",
       "    </tr>\n",
       "    <tr>\n",
       "      <th>2</th>\n",
       "      <td>0.049331</td>\n",
       "    </tr>\n",
       "    <tr>\n",
       "      <th>3</th>\n",
       "      <td>0.050481</td>\n",
       "    </tr>\n",
       "    <tr>\n",
       "      <th>4</th>\n",
       "      <td>0.050481</td>\n",
       "    </tr>\n",
       "    <tr>\n",
       "      <th>...</th>\n",
       "      <td>...</td>\n",
       "    </tr>\n",
       "    <tr>\n",
       "      <th>1291</th>\n",
       "      <td>0.037858</td>\n",
       "    </tr>\n",
       "    <tr>\n",
       "      <th>1292</th>\n",
       "      <td>0.039004</td>\n",
       "    </tr>\n",
       "    <tr>\n",
       "      <th>1293</th>\n",
       "      <td>0.040154</td>\n",
       "    </tr>\n",
       "    <tr>\n",
       "      <th>1294</th>\n",
       "      <td>0.039004</td>\n",
       "    </tr>\n",
       "    <tr>\n",
       "      <th>1295</th>\n",
       "      <td>0.035564</td>\n",
       "    </tr>\n",
       "  </tbody>\n",
       "</table>\n",
       "<p>1296 rows × 1 columns</p>\n",
       "</div>"
      ],
      "text/plain": [
       "            T6\n",
       "0     0.045891\n",
       "1     0.045891\n",
       "2     0.049331\n",
       "3     0.050481\n",
       "4     0.050481\n",
       "...        ...\n",
       "1291  0.037858\n",
       "1292  0.039004\n",
       "1293  0.040154\n",
       "1294  0.039004\n",
       "1295  0.035564\n",
       "\n",
       "[1296 rows x 1 columns]"
      ]
     },
     "execution_count": 10,
     "metadata": {},
     "output_type": "execute_result"
    }
   ],
   "source": [
    "\"\"\"\n",
    "Normalization should be done BEFORE one prepares the data for ANN or LSTM input.\n",
    "Normalization is done feature-wise (that means column-wise).\n",
    "\"\"\"\n",
    "\n",
    "def normalize(X):\n",
    "    scaler = MinMaxScaler(feature_range=(0, 1))\n",
    "    scaler = scaler.fit(X)\n",
    "    scaled_data = scaler.transform(X)\n",
    "    return scaled_data, scaler\n",
    "\n",
    "df_nrm_dis, scaler = normalize(gross_tem_oneValue)\n",
    "df_nrm_dis = pd.DataFrame(df_nrm_dis)\n",
    "#df_nrm.columns = chargingIn_df.columns\n",
    "\n",
    "df_nrm_dis.columns = [ 'T6']\n",
    "df_nrm_dis\n"
   ]
  },
  {
   "cell_type": "code",
   "execution_count": 12,
   "metadata": {},
   "outputs": [],
   "source": [
    "k =3\n",
    "n_features = 2\n",
    "#out_features = y_train.shape[1]\n",
    "#out_features\n",
    "epochs =5000\n",
    "batch_size = 500"
   ]
  },
  {
   "cell_type": "code",
   "execution_count": 13,
   "metadata": {},
   "outputs": [],
   "source": [
    "def flatten_row_wise(df):\n",
    "    \"\"\"Take row by row and attach to one flat single row.\"\"\"\n",
    "    #arr = np.ndarray.flatten(np.array(df))\n",
    "    #append(arr,)\n",
    "    \n",
    "    return np.ndarray.flatten(np.array(df))\n",
    "\n",
    "def prepare_df(df):\n",
    "    n_rows, n_cols = df.shape\n",
    "    new_rows = np.array([flatten_row_wise(df.iloc[(i-k):i]) for i in range(k, n_rows)])\n",
    "    new_ys = np.array([row for row in df.iloc[(k):, :].itertuples(index=False)])\n",
    "    # idxs = [x[0] for x in new_ys]\n",
    "    # new_ys = [x[1] for x in new_ys]\n",
    "    return new_rows, new_ys"
   ]
  },
  {
   "cell_type": "code",
   "execution_count": 14,
   "metadata": {},
   "outputs": [
    {
     "data": {
      "text/plain": [
       "(1293, 3)"
      ]
     },
     "execution_count": 14,
     "metadata": {},
     "output_type": "execute_result"
    }
   ],
   "source": [
    "\n",
    "Xdf1, ydf1 = prepare_df(df_nrm_dis)\n",
    "\n",
    "#Xdf2, ydf2 = prepare_df(y)\n",
    "Xdf1.shape"
   ]
  },
  {
   "cell_type": "code",
   "execution_count": 15,
   "metadata": {},
   "outputs": [
    {
     "data": {
      "text/plain": [
       "(1293, 1)"
      ]
     },
     "execution_count": 15,
     "metadata": {},
     "output_type": "execute_result"
    }
   ],
   "source": [
    "ydf1.shape"
   ]
  },
  {
   "cell_type": "code",
   "execution_count": 16,
   "metadata": {},
   "outputs": [
    {
     "name": "stdout",
     "output_type": "stream",
     "text": [
      "[1280, 561, 626, 497, 128, 422, 377, 346, 464, 807, 316, 906, 1015, 764, 909, 29, 998, 715, 31, 1009, 925, 243, 233, 70, 798, 312, 887, 1031, 275, 358, 602, 348, 783, 48, 113, 155, 802, 1272, 477, 584, 1158, 1283, 754, 471, 107, 727, 1090, 1036, 1256, 1228, 1192, 435, 812, 714, 208, 447, 382, 331, 168, 479, 666, 983, 826, 221, 630, 174, 240, 1055, 350, 261, 54, 218, 814, 1026, 56, 945, 163, 109, 1220, 661, 711, 247, 410, 741, 852, 1102, 629, 967, 1237, 710, 523, 811, 1022, 543, 962, 548, 490, 578, 777, 915, 1197, 781, 851, 867, 170, 327, 936, 893, 297, 806, 209, 672, 254, 140, 926, 921, 1113, 841, 898, 265, 722, 199, 1054, 1288, 309, 723, 425, 10, 147, 1067, 966, 803, 339, 667, 380, 1250, 1150, 705, 135, 818, 1199, 828, 482, 439, 158, 1172, 1121, 628, 676, 756, 850, 859, 96, 886, 286, 677, 156, 1279, 1156, 986, 707, 736, 621, 415, 458, 296, 554, 944, 1007, 1070, 1143, 605, 594, 1135, 178, 1004, 478, 993, 294, 542, 949, 430, 890, 88, 875, 481, 743, 1128, 1144, 679, 290, 285, 1147, 1225, 398, 266, 344, 59, 560, 1221, 367, 990, 943, 785, 333, 432, 409, 1159, 650, 999, 522, 363, 1258, 1181, 328, 428, 671, 970, 83, 129, 716, 538, 171, 545, 260, 617, 631, 1040, 643, 332, 355, 138, 292, 1149, 429, 141, 713, 1075, 968, 139, 1282, 971, 224, 583, 274, 323, 739, 325, 1091, 868, 780, 1063, 846, 390, 712, 770, 1173, 433, 573, 665, 1155, 796, 752, 682, 321, 427, 732, 973, 420, 39, 30, 242, 914, 881, 136, 310, 1078, 532, 411, 1142, 1284, 506, 3, 111, 695, 1115, 1083, 950, 965, 376, 620, 551, 314, 1046, 319, 1039, 493, 5, 100, 424, 778, 591, 948, 668, 423, 938, 438, 581, 1201, 227, 1096, 610, 737, 597, 66, 1189, 67, 451, 211, 12, 590, 745, 299, 536, 930, 1161, 771, 654, 1057, 1227, 485, 613, 787, 1208, 596, 701, 1118, 273, 1240, 362, 237, 1185, 534, 2, 6, 370, 311, 1110, 582, 823, 704, 996, 215, 514, 1178, 27, 865, 1247, 1072, 549, 904, 566, 644, 849, 622, 354, 1132, 636, 256, 291, 25, 336, 774, 47, 318, 106, 1235, 55, 1111, 213, 120, 1141, 553, 72, 588, 45, 910, 651, 1254, 598, 465, 614, 1105, 585, 60, 92, 527, 194, 280, 359, 519, 825, 579, 182, 110, 820, 1259, 204, 618, 937, 1160, 918, 1262, 567, 183, 137, 730, 80, 919, 541, 624, 480, 165, 248, 307, 885, 1049, 334, 97, 572, 708, 933, 1068, 1053, 809, 1170, 302, 1084, 388, 235, 941, 974, 305, 894, 1048, 249, 879, 862, 71, 94, 634, 33, 1168, 448, 445, 1065, 905, 788, 77, 84, 1292, 82, 457, 1166, 1267, 436, 678, 1033, 404, 1127, 700, 1268, 104, 1042, 765, 62, 281, 1107, 238, 223, 145, 1207, 373, 118, 934, 250, 1246, 9, 449, 1018, 593, 389, 721, 1037, 557, 460, 1191, 144, 501, 1194, 539, 177, 1248, 808, 673, 1287, 7, 1151, 979, 357, 329, 816, 964, 258, 1011, 372, 899, 693, 963, 525, 946, 759, 1008, 1230, 440, 531, 226, 228, 1122, 212, 79, 148, 1145, 924, 680, 133, 907, 408, 1245, 507, 1024, 504, 1190, 347, 386, 0, 360, 1223, 475, 1108, 901, 895, 873, 755, 172, 450, 125, 1069, 530, 90, 1251, 181, 839, 414, 251, 69, 131, 300, 772, 326, 1264, 916, 499, 767, 364, 495, 1204, 338, 421, 164, 28, 516, 193, 731, 903, 169, 1066, 652, 173, 518, 1050, 813, 491, 73, 1265, 587, 657, 234, 214, 162, 132, 900, 848, 1062, 185, 41, 692, 108, 987, 568, 869, 1289, 1244, 483, 468, 24, 847, 994, 872, 1093, 366, 976, 1137, 383, 1205, 717, 454, 264, 1089, 232, 444, 395, 861, 176, 18, 1133, 1114, 947, 793, 595, 61, 272, 1275, 278, 978, 694, 368, 36, 735, 952, 1013, 832, 1087, 547, 1032, 688, 738, 191, 456, 393, 675, 760, 1273, 728, 419, 375, 412, 74, 1211, 1005, 500, 932, 616, 114, 417, 601, 604, 969, 89, 958, 1285, 753, 498, 1023, 1029, 1027, 11, 396, 874, 555, 42, 167, 416, 576, 267, 939, 426, 690, 544, 1212, 674, 689, 1140, 1266, 159, 1030, 257, 984, 335, 1006, 15, 515, 324, 768, 607, 1138, 917, 855, 222, 179, 1243, 99, 836, 757, 521, 761, 22, 356, 733, 1073, 1198, 611, 1100, 340, 431, 908, 217, 203, 1041, 1052, 93, 1234, 68, 1232, 284, 696, 85, 434, 923, 153, 75, 1124, 1291, 789, 580, 446, 703, 188, 271, 884, 236, 487, 1249, 559, 117, 637, 1163, 801, 750, 512, 633, 911, 1097, 991, 126, 790, 829, 116, 473, 740, 1092, 57, 603, 786, 830, 119, 656, 1169, 669, 105, 635, 369, 268, 655, 819, 822, 1164, 46, 349, 1116, 876, 773, 195, 102, 4, 619, 571, 52, 263, 1179, 443, 1077, 782, 837, 1226, 691, 304, 341, 1010, 313, 149, 124, 1148, 574, 697, 664, 50, 1002, 726, 799, 833, 353, 1242, 142, 470, 882, 653, 399, 511, 1239, 320, 19, 684, 35, 824, 902, 505, 827, 1157, 407, 920, 817, 866, 537, 758, 1255, 1034, 38, 175, 245, 810, 1171, 1101, 1074, 784, 985, 1276, 489, 154, 638, 961, 662, 853, 942, 287, 625, 1216, 685, 1098, 1195, 569, 1233, 734, 1001, 792, 17, 127, 322, 255, 1210, 982, 927, 980, 1269, 190, 992, 1263, 606, 180, 301, 496, 1117, 1187, 517, 476, 157, 16, 546, 658, 1061, 1019, 1085, 959, 1218, 283, 797, 225, 26, 437, 1257, 229, 37, 749, 1045, 469, 1106, 1271, 687, 1188, 639, 1120, 1081, 1174, 800, 160, 956, 821, 1099, 877, 913, 152, 1183, 509, 1203, 103, 586, 1146, 53, 151, 403, 207, 1224, 8, 1014, 1060, 452, 253, 896, 1131, 880, 1222, 623, 345, 1112, 262, 150, 472, 640, 1281, 1219, 550, 928, 488, 1167, 146, 402, 954, 1214, 659, 463, 186, 608, 143, 751, 981, 197, 883, 279, 293, 1175, 400, 122, 202, 835, 246, 1229, 1217, 384, 854, 219, 641, 1, 112, 698, 1236, 951, 1139, 1165, 441, 1136, 663, 1182, 317, 648, 709, 972, 627, 632, 1261, 1193, 795, 645, 1012, 556, 681, 577, 1109, 524, 1059, 540, 748, 1196, 484, 95, 1020, 563, 742, 863, 891, 1038, 206, 392, 794, 870, 397, 766, 1186, 1028, 642, 612, 960, 725, 683, 98, 804, 406, 502, 1071, 1056, 929, 779, 200, 134, 1051, 40, 1017, 230, 378, 288, 418, 391, 592, 1162, 1086, 647, 1152, 520, 64, 14, 1180, 1064, 492, 379, 187, 763, 216, 791, 1076, 878, 337, 719, 295, 1016, 455, 815, 269, 995, 201, 161, 729, 401, 702, 1129, 565, 1021, 1025, 1104, 205, 34, 775, 508, 1274, 91, 897, 564, 776, 241, 13, 315, 600, 387, 166, 840, 20, 646, 1154, 831, 562, 1260, 686, 957, 189, 975, 699, 510, 1082, 474, 856, 747, 252, 21, 459, 1184, 276, 955, 1215, 385, 805, 343, 769, 130, 871, 1123, 87, 330, 1238, 466, 121, 1044, 1095, 1130, 860, 1126]\n"
     ]
    }
   ],
   "source": [
    "def train_test_split_indexes(X, y, test_size=0.2, random_state=42, shuffle=False):\n",
    "    X_train_indexes, X_test_indexes, y_train_indexes, y_test_indexes = train_test_split(pd.DataFrame(list(range(X.shape[0]))),\n",
    "                                                                                        pd.DataFrame(list(range(y.shape[0]))),\n",
    "                                                                                        test_size=test_size,\n",
    "                                                                                        random_state=random_state,\n",
    "                                                                                        shuffle=shuffle)\n",
    "    #print (X_train_indexes)\n",
    "    #print (X_test_indexes)\n",
    "    train_indexes, test_indexes = [x for x in X_train_indexes.iloc[:, 0]]  , [x for x in X_test_indexes.iloc[:, 0]]\n",
    "    print (train_indexes)\n",
    "    return sorted(train_indexes), sorted(test_indexes)\n",
    "train_indexes, test_indexes = train_test_split_indexes(Xdf1, ydf1, test_size=0.1, random_state=42, shuffle=True)\n",
    "#test_indexes"
   ]
  },
  {
   "cell_type": "code",
   "execution_count": 17,
   "metadata": {},
   "outputs": [],
   "source": [
    "def splitter(X, y, train_indexes, test_indexes):\n",
    "    X_train = X.iloc[train_indexes, :]\n",
    "    y_train = y.iloc[train_indexes, :]\n",
    "    X_test = X.iloc[test_indexes, :]\n",
    "    y_test = y.iloc[test_indexes, :]\n",
    "    return X_train, X_test, y_train, y_test\n"
   ]
  },
  {
   "cell_type": "code",
   "execution_count": 18,
   "metadata": {},
   "outputs": [
    {
     "name": "stdout",
     "output_type": "stream",
     "text": [
      "[1280, 561, 626, 497, 128, 422, 377, 346, 464, 807, 316, 906, 1015, 764, 909, 29, 998, 715, 31, 1009, 925, 243, 233, 70, 798, 312, 887, 1031, 275, 358, 602, 348, 783, 48, 113, 155, 802, 1272, 477, 584, 1158, 1283, 754, 471, 107, 727, 1090, 1036, 1256, 1228, 1192, 435, 812, 714, 208, 447, 382, 331, 168, 479, 666, 983, 826, 221, 630, 174, 240, 1055, 350, 261, 54, 218, 814, 1026, 56, 945, 163, 109, 1220, 661, 711, 247, 410, 741, 852, 1102, 629, 967, 1237, 710, 523, 811, 1022, 543, 962, 548, 490, 578, 777, 915, 1197, 781, 851, 867, 170, 327, 936, 893, 297, 806, 209, 672, 254, 140, 926, 921, 1113, 841, 898, 265, 722, 199, 1054, 1288, 309, 723, 425, 10, 147, 1067, 966, 803, 339, 667, 380, 1250, 1150, 705, 135, 818, 1199, 828, 482, 439, 158, 1172, 1121, 628, 676, 756, 850, 859, 96, 886, 286, 677, 156, 1279, 1156, 986, 707, 736, 621, 415, 458, 296, 554, 944, 1007, 1070, 1143, 605, 594, 1135, 178, 1004, 478, 993, 294, 542, 949, 430, 890, 88, 875, 481, 743, 1128, 1144, 679, 290, 285, 1147, 1225, 398, 266, 344, 59, 560, 1221, 367, 990, 943, 785, 333, 432, 409, 1159, 650, 999, 522, 363, 1258, 1181, 328, 428, 671, 970, 83, 129, 716, 538, 171, 545, 260, 617, 631, 1040, 643, 332, 355, 138, 292, 1149, 429, 141, 713, 1075, 968, 139, 1282, 971, 224, 583, 274, 323, 739, 325, 1091, 868, 780, 1063, 846, 390, 712, 770, 1173, 433, 573, 665, 1155, 796, 752, 682, 321, 427, 732, 973, 420, 39, 30, 242, 914, 881, 136, 310, 1078, 532, 411, 1142, 1284, 506, 3, 111, 695, 1115, 1083, 950, 965, 376, 620, 551, 314, 1046, 319, 1039, 493, 5, 100, 424, 778, 591, 948, 668, 423, 938, 438, 581, 1201, 227, 1096, 610, 737, 597, 66, 1189, 67, 451, 211, 12, 590, 745, 299, 536, 930, 1161, 771, 654, 1057, 1227, 485, 613, 787, 1208, 596, 701, 1118, 273, 1240, 362, 237, 1185, 534, 2, 6, 370, 311, 1110, 582, 823, 704, 996, 215, 514, 1178, 27, 865, 1247, 1072, 549, 904, 566, 644, 849, 622, 354, 1132, 636, 256, 291, 25, 336, 774, 47, 318, 106, 1235, 55, 1111, 213, 120, 1141, 553, 72, 588, 45, 910, 651, 1254, 598, 465, 614, 1105, 585, 60, 92, 527, 194, 280, 359, 519, 825, 579, 182, 110, 820, 1259, 204, 618, 937, 1160, 918, 1262, 567, 183, 137, 730, 80, 919, 541, 624, 480, 165, 248, 307, 885, 1049, 334, 97, 572, 708, 933, 1068, 1053, 809, 1170, 302, 1084, 388, 235, 941, 974, 305, 894, 1048, 249, 879, 862, 71, 94, 634, 33, 1168, 448, 445, 1065, 905, 788, 77, 84, 1292, 82, 457, 1166, 1267, 436, 678, 1033, 404, 1127, 700, 1268, 104, 1042, 765, 62, 281, 1107, 238, 223, 145, 1207, 373, 118, 934, 250, 1246, 9, 449, 1018, 593, 389, 721, 1037, 557, 460, 1191, 144, 501, 1194, 539, 177, 1248, 808, 673, 1287, 7, 1151, 979, 357, 329, 816, 964, 258, 1011, 372, 899, 693, 963, 525, 946, 759, 1008, 1230, 440, 531, 226, 228, 1122, 212, 79, 148, 1145, 924, 680, 133, 907, 408, 1245, 507, 1024, 504, 1190, 347, 386, 0, 360, 1223, 475, 1108, 901, 895, 873, 755, 172, 450, 125, 1069, 530, 90, 1251, 181, 839, 414, 251, 69, 131, 300, 772, 326, 1264, 916, 499, 767, 364, 495, 1204, 338, 421, 164, 28, 516, 193, 731, 903, 169, 1066, 652, 173, 518, 1050, 813, 491, 73, 1265, 587, 657, 234, 214, 162, 132, 900, 848, 1062, 185, 41, 692, 108, 987, 568, 869, 1289, 1244, 483, 468, 24, 847, 994, 872, 1093, 366, 976, 1137, 383, 1205, 717, 454, 264, 1089, 232, 444, 395, 861, 176, 18, 1133, 1114, 947, 793, 595, 61, 272, 1275, 278, 978, 694, 368, 36, 735, 952, 1013, 832, 1087, 547, 1032, 688, 738, 191, 456, 393, 675, 760, 1273, 728, 419, 375, 412, 74, 1211, 1005, 500, 932, 616, 114, 417, 601, 604, 969, 89, 958, 1285, 753, 498, 1023, 1029, 1027, 11, 396, 874, 555, 42, 167, 416, 576, 267, 939, 426, 690, 544, 1212, 674, 689, 1140, 1266, 159, 1030, 257, 984, 335, 1006, 15, 515, 324, 768, 607, 1138, 917, 855, 222, 179, 1243, 99, 836, 757, 521, 761, 22, 356, 733, 1073, 1198, 611, 1100, 340, 431, 908, 217, 203, 1041, 1052, 93, 1234, 68, 1232, 284, 696, 85, 434, 923, 153, 75, 1124, 1291, 789, 580, 446, 703, 188, 271, 884, 236, 487, 1249, 559, 117, 637, 1163, 801, 750, 512, 633, 911, 1097, 991, 126, 790, 829, 116, 473, 740, 1092, 57, 603, 786, 830, 119, 656, 1169, 669, 105, 635, 369, 268, 655, 819, 822, 1164, 46, 349, 1116, 876, 773, 195, 102, 4, 619, 571, 52, 263, 1179, 443, 1077, 782, 837, 1226, 691, 304, 341, 1010, 313, 149, 124, 1148, 574, 697, 664, 50, 1002, 726, 799, 833, 353, 1242, 142, 470, 882, 653, 399, 511, 1239, 320, 19, 684, 35, 824, 902, 505, 827, 1157, 407, 920, 817, 866, 537, 758, 1255, 1034, 38, 175, 245, 810, 1171, 1101, 1074, 784, 985, 1276, 489, 154, 638, 961, 662, 853, 942, 287, 625, 1216, 685, 1098, 1195, 569, 1233, 734, 1001, 792, 17, 127, 322, 255, 1210, 982, 927, 980, 1269, 190, 992, 1263, 606, 180, 301, 496, 1117, 1187, 517, 476, 157, 16, 546, 658, 1061, 1019, 1085, 959, 1218, 283, 797, 225, 26, 437, 1257, 229, 37, 749, 1045, 469, 1106, 1271, 687, 1188, 639, 1120, 1081, 1174, 800, 160, 956, 821, 1099, 877, 913, 152, 1183, 509, 1203, 103, 586, 1146, 53, 151, 403, 207, 1224, 8, 1014, 1060, 452, 253, 896, 1131, 880, 1222, 623, 345, 1112, 262, 150, 472, 640, 1281, 1219, 550, 928, 488, 1167, 146, 402, 954, 1214, 659, 463, 186, 608, 143, 751, 981, 197, 883, 279, 293, 1175, 400, 122, 202, 835, 246, 1229, 1217, 384, 854, 219, 641, 1, 112, 698, 1236, 951, 1139, 1165, 441, 1136, 663, 1182, 317, 648, 709, 972, 627, 632, 1261, 1193, 795, 645, 1012, 556, 681, 577, 1109, 524, 1059, 540, 748, 1196, 484, 95, 1020, 563, 742, 863, 891, 1038, 206, 392, 794, 870, 397, 766, 1186, 1028, 642, 612, 960, 725, 683, 98, 804, 406, 502, 1071, 1056, 929, 779, 200, 134, 1051, 40, 1017, 230, 378, 288, 418, 391, 592, 1162, 1086, 647, 1152, 520, 64, 14, 1180, 1064, 492, 379, 187, 763, 216, 791, 1076, 878, 337, 719, 295, 1016, 455, 815, 269, 995, 201, 161, 729, 401, 702, 1129, 565, 1021, 1025, 1104, 205, 34, 775, 508, 1274, 91, 897, 564, 776, 241, 13, 315, 600, 387, 166, 840, 20, 646, 1154, 831, 562, 1260, 686, 957, 189, 975, 699, 510, 1082, 474, 856, 747, 252, 21, 459, 1184, 276, 955, 1215, 385, 805, 343, 769, 130, 871, 1123, 87, 330, 1238, 466, 121, 1044, 1095, 1130, 860, 1126]\n"
     ]
    }
   ],
   "source": [
    "train_indexes, test_indexes = train_test_split_indexes(Xdf1, ydf1, test_size=0.1, random_state=42, shuffle=True)\n",
    "X_train, X_test, y_train, y_test = splitter(pd.DataFrame(Xdf1), pd.DataFrame(ydf1), train_indexes, test_indexes)\n",
    "\n",
    "\n"
   ]
  },
  {
   "cell_type": "code",
   "execution_count": 29,
   "metadata": {},
   "outputs": [
    {
     "data": {
      "text/plain": [
       "(1163, 3)"
      ]
     },
     "execution_count": 29,
     "metadata": {},
     "output_type": "execute_result"
    }
   ],
   "source": [
    "X_train = np.array(X_train)\n",
    "\n",
    "X_test = np.array(X_test)\n",
    "\n",
    "y_train = np.array(y_train)\n",
    "\n",
    "y_test = np.array(y_test)\n",
    "\n",
    "X_train.shape"
   ]
  },
  {
   "cell_type": "code",
   "execution_count": 31,
   "metadata": {},
   "outputs": [],
   "source": [
    "def create_model(time_steps, n_features):\n",
    "    model = Sequential()\n",
    "    model.add(LSTM(16, input_shape = (time_steps, n_features), kernel_regularizer=l2(0.01), \\\n",
    "                   recurrent_regularizer=l2(0.01), bias_regularizer=l2(0.01)))\n",
    "    model.add(Dropout(0.3))\n",
    "    #model.add(LSTM(64))\n",
    "    #model.add(Dense(30, activation='relu'))\n",
    "    model.add(Dense(n_features, activation='linear'))\n",
    "    model.compile(loss='mean_squared_error', optimizer='adam', metrics=['accuracy'])\n",
    "    return model\n"
   ]
  },
  {
   "cell_type": "code",
   "execution_count": 32,
   "metadata": {},
   "outputs": [],
   "source": [
    "model = create_model(k, n_features)\n",
    "model_fpath=modelDir(ModelName='OnlyOneTemT.h5')\n",
    "callbacks_list = [ ModelCheckpoint(filepath=model_fpath,\n",
    "                                   monitor=\"val_accuracy\",\n",
    "                                   save_best_only=True,\n",
    "                           \n",
    "                                   mode=\"min\")]"
   ]
  },
  {
   "cell_type": "code",
   "execution_count": 35,
   "metadata": {},
   "outputs": [
    {
     "data": {
      "text/plain": [
       "(1163, 3, 1)"
      ]
     },
     "execution_count": 35,
     "metadata": {},
     "output_type": "execute_result"
    }
   ],
   "source": [
    "X_train.shape\n",
    "#y_train.shape\n",
    "p = X_train.reshape(X_train.shape[0], k, n_features)\n",
    "p.shape"
   ]
  },
  {
   "cell_type": "code",
   "execution_count": 30,
   "metadata": {},
   "outputs": [],
   "source": [
    "k =3\n",
    "n_features = 1\n",
    "#out_features = y_train.shape[1]\n",
    "#out_features\n",
    "epochs =3000\n",
    "batch_size = 50"
   ]
  },
  {
   "cell_type": "code",
   "execution_count": 33,
   "metadata": {},
   "outputs": [
    {
     "name": "stdout",
     "output_type": "stream",
     "text": [
      "Train on 814 samples, validate on 349 samples\n",
      "Epoch 1/3000\n",
      "814/814 [==============================] - 1s 2ms/step - loss: 0.7616 - accuracy: 0.0000e+00 - val_loss: 0.5492 - val_accuracy: 0.0029\n",
      "Epoch 2/3000\n",
      "814/814 [==============================] - 0s 207us/step - loss: 0.5776 - accuracy: 0.0000e+00 - val_loss: 0.4309 - val_accuracy: 0.0029\n",
      "Epoch 3/3000\n",
      "814/814 [==============================] - 0s 214us/step - loss: 0.4340 - accuracy: 0.0000e+00 - val_loss: 0.3521 - val_accuracy: 0.0029\n",
      "Epoch 4/3000\n",
      "814/814 [==============================] - 0s 182us/step - loss: 0.3491 - accuracy: 0.0025 - val_loss: 0.3065 - val_accuracy: 0.0029\n",
      "Epoch 5/3000\n",
      "814/814 [==============================] - 0s 227us/step - loss: 0.2968 - accuracy: 0.0000e+00 - val_loss: 0.2806 - val_accuracy: 0.0029\n",
      "Epoch 6/3000\n",
      "814/814 [==============================] - 0s 216us/step - loss: 0.2675 - accuracy: 0.0025 - val_loss: 0.2604 - val_accuracy: 0.0029\n",
      "Epoch 7/3000\n",
      "350/814 [===========>..................] - ETA: 0s - loss: 0.2548 - accuracy: 0.0029    "
     ]
    },
    {
     "ename": "KeyboardInterrupt",
     "evalue": "",
     "output_type": "error",
     "traceback": [
      "\u001b[0;31m---------------------------------------------------------------------------\u001b[0m",
      "\u001b[0;31mKeyboardInterrupt\u001b[0m                         Traceback (most recent call last)",
      "\u001b[0;32m<ipython-input-33-1663ceedabe0>\u001b[0m in \u001b[0;36m<module>\u001b[0;34m\u001b[0m\n\u001b[1;32m      5\u001b[0m                     \u001b[0mvalidation_split\u001b[0m\u001b[0;34m=\u001b[0m\u001b[0;36m0.3\u001b[0m\u001b[0;34m,\u001b[0m\u001b[0;34m\u001b[0m\u001b[0;34m\u001b[0m\u001b[0m\n\u001b[1;32m      6\u001b[0m                     \u001b[0mcallbacks\u001b[0m \u001b[0;34m=\u001b[0m \u001b[0mcallbacks_list\u001b[0m\u001b[0;34m,\u001b[0m\u001b[0;34m\u001b[0m\u001b[0;34m\u001b[0m\u001b[0m\n\u001b[0;32m----> 7\u001b[0;31m                     verbose=1)\n\u001b[0m\u001b[1;32m      8\u001b[0m \u001b[0max\u001b[0m\u001b[0;34m.\u001b[0m\u001b[0mlegend\u001b[0m\u001b[0;34m(\u001b[0m\u001b[0mbbox_to_anchor\u001b[0m\u001b[0;34m=\u001b[0m\u001b[0;34m(\u001b[0m\u001b[0;36m0.5\u001b[0m\u001b[0;34m,\u001b[0m\u001b[0;36m0.8\u001b[0m\u001b[0;34m)\u001b[0m\u001b[0;34m)\u001b[0m\u001b[0;34m\u001b[0m\u001b[0;34m\u001b[0m\u001b[0m\n",
      "\u001b[0;32m~/miniconda3/envs/kerasClone/lib/python3.7/site-packages/keras/engine/training.py\u001b[0m in \u001b[0;36mfit\u001b[0;34m(self, x, y, batch_size, epochs, verbose, callbacks, validation_split, validation_data, shuffle, class_weight, sample_weight, initial_epoch, steps_per_epoch, validation_steps, validation_freq, max_queue_size, workers, use_multiprocessing, **kwargs)\u001b[0m\n\u001b[1;32m   1237\u001b[0m                                         \u001b[0msteps_per_epoch\u001b[0m\u001b[0;34m=\u001b[0m\u001b[0msteps_per_epoch\u001b[0m\u001b[0;34m,\u001b[0m\u001b[0;34m\u001b[0m\u001b[0;34m\u001b[0m\u001b[0m\n\u001b[1;32m   1238\u001b[0m                                         \u001b[0mvalidation_steps\u001b[0m\u001b[0;34m=\u001b[0m\u001b[0mvalidation_steps\u001b[0m\u001b[0;34m,\u001b[0m\u001b[0;34m\u001b[0m\u001b[0;34m\u001b[0m\u001b[0m\n\u001b[0;32m-> 1239\u001b[0;31m                                         validation_freq=validation_freq)\n\u001b[0m\u001b[1;32m   1240\u001b[0m \u001b[0;34m\u001b[0m\u001b[0m\n\u001b[1;32m   1241\u001b[0m     def evaluate(self,\n",
      "\u001b[0;32m~/miniconda3/envs/kerasClone/lib/python3.7/site-packages/keras/engine/training_arrays.py\u001b[0m in \u001b[0;36mfit_loop\u001b[0;34m(model, fit_function, fit_inputs, out_labels, batch_size, epochs, verbose, callbacks, val_function, val_inputs, shuffle, initial_epoch, steps_per_epoch, validation_steps, validation_freq)\u001b[0m\n\u001b[1;32m    194\u001b[0m                     \u001b[0mins_batch\u001b[0m\u001b[0;34m[\u001b[0m\u001b[0mi\u001b[0m\u001b[0;34m]\u001b[0m \u001b[0;34m=\u001b[0m \u001b[0mins_batch\u001b[0m\u001b[0;34m[\u001b[0m\u001b[0mi\u001b[0m\u001b[0;34m]\u001b[0m\u001b[0;34m.\u001b[0m\u001b[0mtoarray\u001b[0m\u001b[0;34m(\u001b[0m\u001b[0;34m)\u001b[0m\u001b[0;34m\u001b[0m\u001b[0;34m\u001b[0m\u001b[0m\n\u001b[1;32m    195\u001b[0m \u001b[0;34m\u001b[0m\u001b[0m\n\u001b[0;32m--> 196\u001b[0;31m                 \u001b[0mouts\u001b[0m \u001b[0;34m=\u001b[0m \u001b[0mfit_function\u001b[0m\u001b[0;34m(\u001b[0m\u001b[0mins_batch\u001b[0m\u001b[0;34m)\u001b[0m\u001b[0;34m\u001b[0m\u001b[0;34m\u001b[0m\u001b[0m\n\u001b[0m\u001b[1;32m    197\u001b[0m                 \u001b[0mouts\u001b[0m \u001b[0;34m=\u001b[0m \u001b[0mto_list\u001b[0m\u001b[0;34m(\u001b[0m\u001b[0mouts\u001b[0m\u001b[0;34m)\u001b[0m\u001b[0;34m\u001b[0m\u001b[0;34m\u001b[0m\u001b[0m\n\u001b[1;32m    198\u001b[0m                 \u001b[0;32mfor\u001b[0m \u001b[0ml\u001b[0m\u001b[0;34m,\u001b[0m \u001b[0mo\u001b[0m \u001b[0;32min\u001b[0m \u001b[0mzip\u001b[0m\u001b[0;34m(\u001b[0m\u001b[0mout_labels\u001b[0m\u001b[0;34m,\u001b[0m \u001b[0mouts\u001b[0m\u001b[0;34m)\u001b[0m\u001b[0;34m:\u001b[0m\u001b[0;34m\u001b[0m\u001b[0;34m\u001b[0m\u001b[0m\n",
      "\u001b[0;32m~/miniconda3/envs/kerasClone/lib/python3.7/site-packages/tensorflow/python/keras/backend.py\u001b[0m in \u001b[0;36m__call__\u001b[0;34m(self, inputs)\u001b[0m\n\u001b[1;32m   3790\u001b[0m         \u001b[0mvalue\u001b[0m \u001b[0;34m=\u001b[0m \u001b[0mmath_ops\u001b[0m\u001b[0;34m.\u001b[0m\u001b[0mcast\u001b[0m\u001b[0;34m(\u001b[0m\u001b[0mvalue\u001b[0m\u001b[0;34m,\u001b[0m \u001b[0mtensor\u001b[0m\u001b[0;34m.\u001b[0m\u001b[0mdtype\u001b[0m\u001b[0;34m)\u001b[0m\u001b[0;34m\u001b[0m\u001b[0;34m\u001b[0m\u001b[0m\n\u001b[1;32m   3791\u001b[0m       \u001b[0mconverted_inputs\u001b[0m\u001b[0;34m.\u001b[0m\u001b[0mappend\u001b[0m\u001b[0;34m(\u001b[0m\u001b[0mvalue\u001b[0m\u001b[0;34m)\u001b[0m\u001b[0;34m\u001b[0m\u001b[0;34m\u001b[0m\u001b[0m\n\u001b[0;32m-> 3792\u001b[0;31m     \u001b[0moutputs\u001b[0m \u001b[0;34m=\u001b[0m \u001b[0mself\u001b[0m\u001b[0;34m.\u001b[0m\u001b[0m_graph_fn\u001b[0m\u001b[0;34m(\u001b[0m\u001b[0;34m*\u001b[0m\u001b[0mconverted_inputs\u001b[0m\u001b[0;34m)\u001b[0m\u001b[0;34m\u001b[0m\u001b[0;34m\u001b[0m\u001b[0m\n\u001b[0m\u001b[1;32m   3793\u001b[0m \u001b[0;34m\u001b[0m\u001b[0m\n\u001b[1;32m   3794\u001b[0m     \u001b[0;31m# EagerTensor.numpy() will often make a copy to ensure memory safety.\u001b[0m\u001b[0;34m\u001b[0m\u001b[0;34m\u001b[0m\u001b[0;34m\u001b[0m\u001b[0m\n",
      "\u001b[0;32m~/miniconda3/envs/kerasClone/lib/python3.7/site-packages/tensorflow/python/eager/function.py\u001b[0m in \u001b[0;36m__call__\u001b[0;34m(self, *args, **kwargs)\u001b[0m\n\u001b[1;32m   1603\u001b[0m       \u001b[0mTypeError\u001b[0m\u001b[0;34m:\u001b[0m \u001b[0mFor\u001b[0m \u001b[0minvalid\u001b[0m \u001b[0mpositional\u001b[0m\u001b[0;34m/\u001b[0m\u001b[0mkeyword\u001b[0m \u001b[0margument\u001b[0m \u001b[0mcombinations\u001b[0m\u001b[0;34m.\u001b[0m\u001b[0;34m\u001b[0m\u001b[0;34m\u001b[0m\u001b[0m\n\u001b[1;32m   1604\u001b[0m     \"\"\"\n\u001b[0;32m-> 1605\u001b[0;31m     \u001b[0;32mreturn\u001b[0m \u001b[0mself\u001b[0m\u001b[0;34m.\u001b[0m\u001b[0m_call_impl\u001b[0m\u001b[0;34m(\u001b[0m\u001b[0margs\u001b[0m\u001b[0;34m,\u001b[0m \u001b[0mkwargs\u001b[0m\u001b[0;34m)\u001b[0m\u001b[0;34m\u001b[0m\u001b[0;34m\u001b[0m\u001b[0m\n\u001b[0m\u001b[1;32m   1606\u001b[0m \u001b[0;34m\u001b[0m\u001b[0m\n\u001b[1;32m   1607\u001b[0m   \u001b[0;32mdef\u001b[0m \u001b[0m_call_impl\u001b[0m\u001b[0;34m(\u001b[0m\u001b[0mself\u001b[0m\u001b[0;34m,\u001b[0m \u001b[0margs\u001b[0m\u001b[0;34m,\u001b[0m \u001b[0mkwargs\u001b[0m\u001b[0;34m,\u001b[0m \u001b[0mcancellation_manager\u001b[0m\u001b[0;34m=\u001b[0m\u001b[0;32mNone\u001b[0m\u001b[0;34m)\u001b[0m\u001b[0;34m:\u001b[0m\u001b[0;34m\u001b[0m\u001b[0;34m\u001b[0m\u001b[0m\n",
      "\u001b[0;32m~/miniconda3/envs/kerasClone/lib/python3.7/site-packages/tensorflow/python/eager/function.py\u001b[0m in \u001b[0;36m_call_impl\u001b[0;34m(self, args, kwargs, cancellation_manager)\u001b[0m\n\u001b[1;32m   1643\u001b[0m       raise TypeError(\"Keyword arguments {} unknown. Expected {}.\".format(\n\u001b[1;32m   1644\u001b[0m           list(kwargs.keys()), list(self._arg_keywords)))\n\u001b[0;32m-> 1645\u001b[0;31m     \u001b[0;32mreturn\u001b[0m \u001b[0mself\u001b[0m\u001b[0;34m.\u001b[0m\u001b[0m_call_flat\u001b[0m\u001b[0;34m(\u001b[0m\u001b[0margs\u001b[0m\u001b[0;34m,\u001b[0m \u001b[0mself\u001b[0m\u001b[0;34m.\u001b[0m\u001b[0mcaptured_inputs\u001b[0m\u001b[0;34m,\u001b[0m \u001b[0mcancellation_manager\u001b[0m\u001b[0;34m)\u001b[0m\u001b[0;34m\u001b[0m\u001b[0;34m\u001b[0m\u001b[0m\n\u001b[0m\u001b[1;32m   1646\u001b[0m \u001b[0;34m\u001b[0m\u001b[0m\n\u001b[1;32m   1647\u001b[0m   \u001b[0;32mdef\u001b[0m \u001b[0m_filtered_call\u001b[0m\u001b[0;34m(\u001b[0m\u001b[0mself\u001b[0m\u001b[0;34m,\u001b[0m \u001b[0margs\u001b[0m\u001b[0;34m,\u001b[0m \u001b[0mkwargs\u001b[0m\u001b[0;34m)\u001b[0m\u001b[0;34m:\u001b[0m\u001b[0;34m\u001b[0m\u001b[0;34m\u001b[0m\u001b[0m\n",
      "\u001b[0;32m~/miniconda3/envs/kerasClone/lib/python3.7/site-packages/tensorflow/python/eager/function.py\u001b[0m in \u001b[0;36m_call_flat\u001b[0;34m(self, args, captured_inputs, cancellation_manager)\u001b[0m\n\u001b[1;32m   1744\u001b[0m       \u001b[0;31m# No tape is watching; skip to running the function.\u001b[0m\u001b[0;34m\u001b[0m\u001b[0;34m\u001b[0m\u001b[0;34m\u001b[0m\u001b[0m\n\u001b[1;32m   1745\u001b[0m       return self._build_call_outputs(self._inference_function.call(\n\u001b[0;32m-> 1746\u001b[0;31m           ctx, args, cancellation_manager=cancellation_manager))\n\u001b[0m\u001b[1;32m   1747\u001b[0m     forward_backward = self._select_forward_and_backward_functions(\n\u001b[1;32m   1748\u001b[0m         \u001b[0margs\u001b[0m\u001b[0;34m,\u001b[0m\u001b[0;34m\u001b[0m\u001b[0;34m\u001b[0m\u001b[0m\n",
      "\u001b[0;32m~/miniconda3/envs/kerasClone/lib/python3.7/site-packages/tensorflow/python/eager/function.py\u001b[0m in \u001b[0;36mcall\u001b[0;34m(self, ctx, args, cancellation_manager)\u001b[0m\n\u001b[1;32m    596\u001b[0m               \u001b[0minputs\u001b[0m\u001b[0;34m=\u001b[0m\u001b[0margs\u001b[0m\u001b[0;34m,\u001b[0m\u001b[0;34m\u001b[0m\u001b[0;34m\u001b[0m\u001b[0m\n\u001b[1;32m    597\u001b[0m               \u001b[0mattrs\u001b[0m\u001b[0;34m=\u001b[0m\u001b[0mattrs\u001b[0m\u001b[0;34m,\u001b[0m\u001b[0;34m\u001b[0m\u001b[0;34m\u001b[0m\u001b[0m\n\u001b[0;32m--> 598\u001b[0;31m               ctx=ctx)\n\u001b[0m\u001b[1;32m    599\u001b[0m         \u001b[0;32melse\u001b[0m\u001b[0;34m:\u001b[0m\u001b[0;34m\u001b[0m\u001b[0;34m\u001b[0m\u001b[0m\n\u001b[1;32m    600\u001b[0m           outputs = execute.execute_with_cancellation(\n",
      "\u001b[0;32m~/miniconda3/envs/kerasClone/lib/python3.7/site-packages/tensorflow/python/eager/execute.py\u001b[0m in \u001b[0;36mquick_execute\u001b[0;34m(op_name, num_outputs, inputs, attrs, ctx, name)\u001b[0m\n\u001b[1;32m     58\u001b[0m     \u001b[0mctx\u001b[0m\u001b[0;34m.\u001b[0m\u001b[0mensure_initialized\u001b[0m\u001b[0;34m(\u001b[0m\u001b[0;34m)\u001b[0m\u001b[0;34m\u001b[0m\u001b[0;34m\u001b[0m\u001b[0m\n\u001b[1;32m     59\u001b[0m     tensors = pywrap_tfe.TFE_Py_Execute(ctx._handle, device_name, op_name,\n\u001b[0;32m---> 60\u001b[0;31m                                         inputs, attrs, num_outputs)\n\u001b[0m\u001b[1;32m     61\u001b[0m   \u001b[0;32mexcept\u001b[0m \u001b[0mcore\u001b[0m\u001b[0;34m.\u001b[0m\u001b[0m_NotOkStatusException\u001b[0m \u001b[0;32mas\u001b[0m \u001b[0me\u001b[0m\u001b[0;34m:\u001b[0m\u001b[0;34m\u001b[0m\u001b[0;34m\u001b[0m\u001b[0m\n\u001b[1;32m     62\u001b[0m     \u001b[0;32mif\u001b[0m \u001b[0mname\u001b[0m \u001b[0;32mis\u001b[0m \u001b[0;32mnot\u001b[0m \u001b[0;32mNone\u001b[0m\u001b[0;34m:\u001b[0m\u001b[0;34m\u001b[0m\u001b[0;34m\u001b[0m\u001b[0m\n",
      "\u001b[0;31mKeyboardInterrupt\u001b[0m: "
     ]
    }
   ],
   "source": [
    "history = model.fit(X_train.reshape(X_train.shape[0], k, n_features),\n",
    "                    y_train.reshape(y_train.shape[0], n_features),\n",
    "                    epochs=epochs,\n",
    "                    batch_size=batch_size,\n",
    "                    validation_split=0.3,\n",
    "                    callbacks = callbacks_list,\n",
    "                    verbose=1)\n",
    "ax.legend(bbox_to_anchor=(0.5,0.8))"
   ]
  },
  {
   "cell_type": "code",
   "execution_count": 115,
   "metadata": {},
   "outputs": [],
   "source": [
    "model.save(model_fpath)\n",
    "\n",
    "from keras.models import load_model\n",
    "model = load_model(model_fpath)\n"
   ]
  },
  {
   "cell_type": "code",
   "execution_count": 116,
   "metadata": {},
   "outputs": [
    {
     "data": {
      "text/plain": [
       "<matplotlib.axes._subplots.AxesSubplot at 0x7fad1deb2e50>"
      ]
     },
     "execution_count": 116,
     "metadata": {},
     "output_type": "execute_result"
    },
    {
     "data": {
      "image/png": "[encoded data removed]",
      "text/plain": [
       "<Figure size 432x288 with 1 Axes>"
      ]
     },
     "metadata": {
      "needs_background": "light"
     },
     "output_type": "display_data"
    }
   ],
   "source": [
    "#val_loss = eval_metric(model, history.history, 'loss')\n",
    "metric = history.history['loss']\n",
    "val_metric = history.history['val_' + 'loss']\n",
    "\n",
    "pd.DataFrame(val_metric).plot()"
   ]
  },
  {
   "cell_type": "code",
   "execution_count": 117,
   "metadata": {},
   "outputs": [
    {
     "data": {
      "text/plain": [
       "<matplotlib.axes._subplots.AxesSubplot at 0x7fad1de52e10>"
      ]
     },
     "execution_count": 117,
     "metadata": {},
     "output_type": "execute_result"
    },
    {
     "data": {
      "image/png": "[encoded data removed]",
      "text/plain": [
       "<Figure size 432x288 with 1 Axes>"
      ]
     },
     "metadata": {
      "needs_background": "light"
     },
     "output_type": "display_data"
    }
   ],
   "source": [
    "# to plot make data frame out of dict history.history and use .plot() method\n",
    "pd.DataFrame(history.history).plot()\n",
    "#pyplot.show()"
   ]
  },
  {
   "cell_type": "code",
   "execution_count": 118,
   "metadata": {},
   "outputs": [
    {
     "data": {
      "image/png": "[encoded data removed]",
      "text/plain": [
       "<Figure size 432x288 with 1 Axes>"
      ]
     },
     "metadata": {
      "needs_background": "light"
     },
     "output_type": "display_data"
    }
   ],
   "source": [
    "yhat=model.predict(X_test.reshape(X_test.shape[0], k, n_features))\n",
    "#plt.gca().spines['top'].set_visible(False)\n",
    "\n",
    "fig, ax = plt.subplots()\n",
    "#plt.gca().spines['right'].set_visible(False)\n",
    "ax.scatter(y_test, yhat,  c='crimson')\n",
    "ax.plot([y_test.min(), yhat.max()], [y_test.min(),  yhat.max()], 'k', lw=3)\n",
    "#plt.plot(y_test, yhat, zorder=1)  \n",
    "ax.set_xlabel('Measured')\n",
    "ax.set_ylabel('Predicted')\n",
    "plt.show()"
   ]
  },
  {
   "cell_type": "code",
   "execution_count": 119,
   "metadata": {},
   "outputs": [
    {
     "data": {
      "image/png": "[encoded data removed]",
      "text/plain": [
       "<Figure size 432x288 with 1 Axes>"
      ]
     },
     "metadata": {
      "needs_background": "light"
     },
     "output_type": "display_data"
    }
   ],
   "source": [
    "##### plt.scatter(y_test_unscaled , y_pred_unscaled,  color='#0000CC')\n",
    "fig, ax = plt.subplots()\n",
    "dy = 0.04\n",
    "plt.errorbar(y_test, yhat, yerr=dy, fmt='b', color='r',\n",
    "             ecolor='gray', elinewidth=4, capsize=1);\n",
    "\n",
    "ax.set_xlabel('Measured values normalised')\n",
    "ax.set_ylabel('Predicted values normalised')\n",
    "fig.savefig(fileNameForDLFigures(midfix = 'PredAgainstTested_Charging'))"
   ]
  },
  {
   "cell_type": "code",
   "execution_count": 120,
   "metadata": {},
   "outputs": [],
   "source": [
    "def unscale(y_values, scaler):\n",
    "    return scaler.inverse_transform(y_values)\n",
    "\n",
    "y_pred_unscaled, y_test_unscaled = unscale(yhat, scaler), unscale(y_test, scaler)\n"
   ]
  },
  {
   "cell_type": "code",
   "execution_count": 121,
   "metadata": {},
   "outputs": [],
   "source": [
    "y_pred_unscaled = pd.DataFrame(y_pred_unscaled)\n"
   ]
  },
  {
   "cell_type": "code",
   "execution_count": 122,
   "metadata": {},
   "outputs": [],
   "source": [
    "y_test_unscaled = pd.DataFrame(y_test_unscaled)"
   ]
  },
  {
   "cell_type": "code",
   "execution_count": 123,
   "metadata": {},
   "outputs": [],
   "source": [
    "def create_color_step_obj(cmap_name, n):\n",
    "    \"\"\"\n",
    "    Return scalarMap object with n colors in gradient from color map\n",
    "    given in cmap_name.\n",
    "    \"\"\"\n",
    "    cmap = plt.get_cmap(cmap_name)\n",
    "    values = range(n)\n",
    "    cNorm  = clrs.Normalize(vmin=values[0], vmax=values[-1])\n",
    "    scalarMap = cm.ScalarMappable(norm=cNorm, cmap=cmap)\n",
    "    return scalarMap"
   ]
  },
  {
   "cell_type": "code",
   "execution_count": 124,
   "metadata": {},
   "outputs": [
    {
     "name": "stderr",
     "output_type": "stream",
     "text": [
      "/home/yogender/miniconda3/envs/kerasClone/lib/python3.7/site-packages/ipykernel_launcher.py:5: UserWarning: Matplotlib is currently using module://ipykernel.pylab.backend_inline, which is a non-GUI backend, so cannot show the figure.\n",
      "  \"\"\"\n"
     ]
    },
    {
     "data": {
      "text/plain": [
       "(<Figure size 432x288 with 1 Axes>,\n",
       " <matplotlib.axes._subplots.AxesSubplot at 0x7fad1d943b90>)"
      ]
     },
     "execution_count": 124,
     "metadata": {},
     "output_type": "execute_result"
    },
    {
     "data": {
      "image/png": "[encoded data removed]",
      "text/plain": [
       "<Figure size 432x288 with 1 Axes>"
      ]
     },
     "metadata": {
      "needs_background": "light"
     },
     "output_type": "display_data"
    }
   ],
   "source": [
    "fig = plt.figure(1)\n",
    "ax = fig.add_subplot(111)\n",
    "\n",
    "#fig.canvas.draw()\n",
    "fig.show()\n",
    "#fig.canvas.draw()\n",
    "#plt.rcParams[\"figure.figsize\"]=5,5\n",
    "fig_size = plt.rcParams[\"figure.figsize\"]\n",
    "#fig_size[0] = 8\n",
    "#fig_size[1] = 3\n",
    "\n",
    "def plotyhat_ytest(df_yhat, y_test, ax, fig, alpha =0.7, scm=None):\n",
    "    #ax.clear()\n",
    "    #df= df.iloc[:, 1:]\n",
    "    #df = df.iloc[:, 3:]\n",
    "    for i in range (0, df_yhat.shape[1]):\n",
    "        #print ('last shape[1] is:', df.shape[1])\n",
    "        ax.plot(df_yhat.index, df_yhat.iloc[:, i],\\\n",
    "                label = 'Layer pred' + str(i))\n",
    "        ax.plot(y_test.index, y_test.iloc[:, i],\\\n",
    "                label = 'Layer  test' + str(i))\n",
    "        \n",
    "    #fig.canvas.draw()\n",
    "    #ax.legend()\n",
    "    #fig.show()\n",
    "    #print ('df is :', df)\n",
    "    plt.legend(loc='upper left')\n",
    "    return fig, ax\n",
    "plotyhat_ytest(y_pred_unscaled,y_test_unscaled, ax, fig, alpha =0.7, scm=None)"
   ]
  },
  {
   "cell_type": "code",
   "execution_count": null,
   "metadata": {},
   "outputs": [],
   "source": []
  }
 ],
 "metadata": {
  "kernelspec": {
   "display_name": "Python 3",
   "language": "python",
   "name": "python3"
  },
  "language_info": {
   "codemirror_mode": {
    "name": "ipython",
    "version": 3
   },
   "file_extension": ".py",
   "mimetype": "text/x-python",
   "name": "python",
   "nbconvert_exporter": "python",
   "pygments_lexer": "ipython3",
   "version": "3.7.7"
  }
 },
 "nbformat": 4,
 "nbformat_minor": 4
}
